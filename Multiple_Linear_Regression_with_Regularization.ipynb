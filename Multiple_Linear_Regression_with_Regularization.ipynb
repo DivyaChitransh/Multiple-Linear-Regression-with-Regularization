{
 "cells": [
  {
   "cell_type": "markdown",
   "metadata": {
    "id": "V_WYgBy_zmJE"
   },
   "source": [
    "# Multiple Linear Regression\n",
    "\n",
    "This tutorial demonstrate implementation of multiple linear regression. \n",
    "\n",
    "The key learnings of this tutorial are as follows:\n",
    "\n",
    "1. Modeling Linear regression\n",
    "            - Key learnings\n",
    "                    * loading data set\n",
    "                    * loading libraries from scikit learn\n",
    "                    * creating training and test set enviornment\n",
    "                    * implement linear regression model\n",
    "                    * evaluate linear regression model\n",
    "                    * printing linear regression model in form of equation\n",
    "                    * analysing results\n",
    "                    \n",
    "2.  Applying Hypothesis testing\n",
    "            - Key learnings\n",
    "                    * applying Hypothesis testing\n",
    "                    * analysing results\n",
    "\n",
    "3. Overcoming Collinearity, model overfitting and complexity using Regularization    \n",
    "            - Key learnings\n",
    "                    * understanding effect of Collinearity on linear regression model\n",
    "                    * analysing correlation among attributes\n",
    "                    * practical understanding on output of linear regression model in\n",
    "                      presence of correlated festures\n",
    "                    * implement, analyse Ridge regularization to avoid  collinearity,    \n",
    "                      model overfitting and model complexity\n",
    "                    * implement, analyse Lasso regularization to avoid  collinearity,    \n",
    "                      model overfitting and model complexity\n",
    "                    * discovering relevant features using Lasso model \n",
    "                    * implement, analyse Elasticnet regularization to avoid collinearity, model overfitting and model complexity\n",
    "                    * Analysing results of regularization\n",
    "                    * comparing results of regularization with linear regression model\n",
    "               \n",
    "4. Hyperparamter tuning via cross validation                     \n",
    "            - Key learnings\n",
    "                    * applying cross validation\n",
    "                    * tunning parameters of regularization techniques using cros  \n",
    "                      validation\n",
    " \n",
    "The data set used for demonstration is Moneyball which can downloaded form https://www.kaggle.com/wduckett/moneyball-mlb-stats-19622012/data . The data has been gathered from baseball-reference.com. It contains following features:\n",
    "\n",
    "1. RA: runs allowed\n",
    "2. RS:  runs scored\n",
    "3. OBP: On Base Percentage\n",
    "4. SLG: Slugging Percentage\n",
    "5. BA: Batting Average\n",
    "6. OOBP: opponent’s OBP\n",
    "7. OSLG: opponent’s SLG\n",
    "8. W:  wins in that season\n",
    "\n",
    "The features from 1-7 are used as indicator variables to predict the outcome W(i.e., wins in season). \n",
    "\n",
    "The step by step practical learning on implementing and analysing multiple linear regression to predict W is demonstrated below.\n"
   ]
  },
  {
   "cell_type": "markdown",
   "metadata": {
    "id": "FpW-nH8dzmJK"
   },
   "source": [
    "# 1. Loading libraries"
   ]
  },
  {
   "cell_type": "code",
   "execution_count": 1,
   "metadata": {
    "id": "9ixQpzSnzmJK"
   },
   "outputs": [],
   "source": [
    "import pandas as pd # importing pandas\n",
    "import numpy as np  # importing mumpy\n",
    "from sklearn import linear_model   # imports linear_model from scikit learn\n",
    "from sklearn import metrics # for model evaluation\n",
    "from sklearn.model_selection import train_test_split # using scikit learn for hold-out\n",
    "import matplotlib.pyplot as plt # for visualization"
   ]
  },
  {
   "cell_type": "markdown",
   "metadata": {
    "id": "Ys1WGZoXzmJM"
   },
   "source": [
    "# 2. Loading data set"
   ]
  },
  {
   "cell_type": "code",
   "execution_count": 2,
   "metadata": {
    "id": "brSW8IDZzmJM"
   },
   "outputs": [],
   "source": [
    "# Loading data set from local machine.\n",
    "df =pd.read_csv('baseball.csv')"
   ]
  },
  {
   "cell_type": "code",
   "execution_count": 3,
   "metadata": {},
   "outputs": [
    {
     "data": {
      "text/html": [
       "<div>\n",
       "<style scoped>\n",
       "    .dataframe tbody tr th:only-of-type {\n",
       "        vertical-align: middle;\n",
       "    }\n",
       "\n",
       "    .dataframe tbody tr th {\n",
       "        vertical-align: top;\n",
       "    }\n",
       "\n",
       "    .dataframe thead th {\n",
       "        text-align: right;\n",
       "    }\n",
       "</style>\n",
       "<table border=\"1\" class=\"dataframe\">\n",
       "  <thead>\n",
       "    <tr style=\"text-align: right;\">\n",
       "      <th></th>\n",
       "      <th>Team</th>\n",
       "      <th>League</th>\n",
       "      <th>Year</th>\n",
       "      <th>RS</th>\n",
       "      <th>RA</th>\n",
       "      <th>W</th>\n",
       "      <th>OBP</th>\n",
       "      <th>SLG</th>\n",
       "      <th>BA</th>\n",
       "      <th>Playoffs</th>\n",
       "      <th>RankSeason</th>\n",
       "      <th>RankPlayoffs</th>\n",
       "      <th>G</th>\n",
       "      <th>OOBP</th>\n",
       "      <th>OSLG</th>\n",
       "    </tr>\n",
       "  </thead>\n",
       "  <tbody>\n",
       "    <tr>\n",
       "      <th>0</th>\n",
       "      <td>ARI</td>\n",
       "      <td>NL</td>\n",
       "      <td>2012</td>\n",
       "      <td>734</td>\n",
       "      <td>688</td>\n",
       "      <td>81</td>\n",
       "      <td>0.328</td>\n",
       "      <td>0.418</td>\n",
       "      <td>0.259</td>\n",
       "      <td>0</td>\n",
       "      <td>NaN</td>\n",
       "      <td>NaN</td>\n",
       "      <td>162</td>\n",
       "      <td>0.317</td>\n",
       "      <td>0.415</td>\n",
       "    </tr>\n",
       "    <tr>\n",
       "      <th>1</th>\n",
       "      <td>ATL</td>\n",
       "      <td>NL</td>\n",
       "      <td>2012</td>\n",
       "      <td>700</td>\n",
       "      <td>600</td>\n",
       "      <td>94</td>\n",
       "      <td>0.320</td>\n",
       "      <td>0.389</td>\n",
       "      <td>0.247</td>\n",
       "      <td>1</td>\n",
       "      <td>4.0</td>\n",
       "      <td>5.0</td>\n",
       "      <td>162</td>\n",
       "      <td>0.306</td>\n",
       "      <td>0.378</td>\n",
       "    </tr>\n",
       "    <tr>\n",
       "      <th>2</th>\n",
       "      <td>BAL</td>\n",
       "      <td>AL</td>\n",
       "      <td>2012</td>\n",
       "      <td>712</td>\n",
       "      <td>705</td>\n",
       "      <td>93</td>\n",
       "      <td>0.311</td>\n",
       "      <td>0.417</td>\n",
       "      <td>0.247</td>\n",
       "      <td>1</td>\n",
       "      <td>5.0</td>\n",
       "      <td>4.0</td>\n",
       "      <td>162</td>\n",
       "      <td>0.315</td>\n",
       "      <td>0.403</td>\n",
       "    </tr>\n",
       "    <tr>\n",
       "      <th>3</th>\n",
       "      <td>BOS</td>\n",
       "      <td>AL</td>\n",
       "      <td>2012</td>\n",
       "      <td>734</td>\n",
       "      <td>806</td>\n",
       "      <td>69</td>\n",
       "      <td>0.315</td>\n",
       "      <td>0.415</td>\n",
       "      <td>0.260</td>\n",
       "      <td>0</td>\n",
       "      <td>NaN</td>\n",
       "      <td>NaN</td>\n",
       "      <td>162</td>\n",
       "      <td>0.331</td>\n",
       "      <td>0.428</td>\n",
       "    </tr>\n",
       "    <tr>\n",
       "      <th>4</th>\n",
       "      <td>CHC</td>\n",
       "      <td>NL</td>\n",
       "      <td>2012</td>\n",
       "      <td>613</td>\n",
       "      <td>759</td>\n",
       "      <td>61</td>\n",
       "      <td>0.302</td>\n",
       "      <td>0.378</td>\n",
       "      <td>0.240</td>\n",
       "      <td>0</td>\n",
       "      <td>NaN</td>\n",
       "      <td>NaN</td>\n",
       "      <td>162</td>\n",
       "      <td>0.335</td>\n",
       "      <td>0.424</td>\n",
       "    </tr>\n",
       "  </tbody>\n",
       "</table>\n",
       "</div>"
      ],
      "text/plain": [
       "  Team League  Year   RS   RA   W    OBP    SLG     BA  Playoffs  RankSeason  \\\n",
       "0  ARI     NL  2012  734  688  81  0.328  0.418  0.259         0         NaN   \n",
       "1  ATL     NL  2012  700  600  94  0.320  0.389  0.247         1         4.0   \n",
       "2  BAL     AL  2012  712  705  93  0.311  0.417  0.247         1         5.0   \n",
       "3  BOS     AL  2012  734  806  69  0.315  0.415  0.260         0         NaN   \n",
       "4  CHC     NL  2012  613  759  61  0.302  0.378  0.240         0         NaN   \n",
       "\n",
       "   RankPlayoffs    G   OOBP   OSLG  \n",
       "0           NaN  162  0.317  0.415  \n",
       "1           5.0  162  0.306  0.378  \n",
       "2           4.0  162  0.315  0.403  \n",
       "3           NaN  162  0.331  0.428  \n",
       "4           NaN  162  0.335  0.424  "
      ]
     },
     "execution_count": 3,
     "metadata": {},
     "output_type": "execute_result"
    }
   ],
   "source": [
    "df.head()"
   ]
  },
  {
   "cell_type": "code",
   "execution_count": 4,
   "metadata": {},
   "outputs": [
    {
     "data": {
      "text/html": [
       "<div>\n",
       "<style scoped>\n",
       "    .dataframe tbody tr th:only-of-type {\n",
       "        vertical-align: middle;\n",
       "    }\n",
       "\n",
       "    .dataframe tbody tr th {\n",
       "        vertical-align: top;\n",
       "    }\n",
       "\n",
       "    .dataframe thead th {\n",
       "        text-align: right;\n",
       "    }\n",
       "</style>\n",
       "<table border=\"1\" class=\"dataframe\">\n",
       "  <thead>\n",
       "    <tr style=\"text-align: right;\">\n",
       "      <th></th>\n",
       "      <th>RS</th>\n",
       "      <th>RA</th>\n",
       "      <th>W</th>\n",
       "      <th>OBP</th>\n",
       "      <th>SLG</th>\n",
       "      <th>BA</th>\n",
       "      <th>OOBP</th>\n",
       "      <th>OSLG</th>\n",
       "    </tr>\n",
       "  </thead>\n",
       "  <tbody>\n",
       "    <tr>\n",
       "      <th>0</th>\n",
       "      <td>734</td>\n",
       "      <td>688</td>\n",
       "      <td>81</td>\n",
       "      <td>0.328</td>\n",
       "      <td>0.418</td>\n",
       "      <td>0.259</td>\n",
       "      <td>0.317</td>\n",
       "      <td>0.415</td>\n",
       "    </tr>\n",
       "    <tr>\n",
       "      <th>1</th>\n",
       "      <td>700</td>\n",
       "      <td>600</td>\n",
       "      <td>94</td>\n",
       "      <td>0.320</td>\n",
       "      <td>0.389</td>\n",
       "      <td>0.247</td>\n",
       "      <td>0.306</td>\n",
       "      <td>0.378</td>\n",
       "    </tr>\n",
       "    <tr>\n",
       "      <th>2</th>\n",
       "      <td>712</td>\n",
       "      <td>705</td>\n",
       "      <td>93</td>\n",
       "      <td>0.311</td>\n",
       "      <td>0.417</td>\n",
       "      <td>0.247</td>\n",
       "      <td>0.315</td>\n",
       "      <td>0.403</td>\n",
       "    </tr>\n",
       "    <tr>\n",
       "      <th>3</th>\n",
       "      <td>734</td>\n",
       "      <td>806</td>\n",
       "      <td>69</td>\n",
       "      <td>0.315</td>\n",
       "      <td>0.415</td>\n",
       "      <td>0.260</td>\n",
       "      <td>0.331</td>\n",
       "      <td>0.428</td>\n",
       "    </tr>\n",
       "    <tr>\n",
       "      <th>4</th>\n",
       "      <td>613</td>\n",
       "      <td>759</td>\n",
       "      <td>61</td>\n",
       "      <td>0.302</td>\n",
       "      <td>0.378</td>\n",
       "      <td>0.240</td>\n",
       "      <td>0.335</td>\n",
       "      <td>0.424</td>\n",
       "    </tr>\n",
       "  </tbody>\n",
       "</table>\n",
       "</div>"
      ],
      "text/plain": [
       "    RS   RA   W    OBP    SLG     BA   OOBP   OSLG\n",
       "0  734  688  81  0.328  0.418  0.259  0.317  0.415\n",
       "1  700  600  94  0.320  0.389  0.247  0.306  0.378\n",
       "2  712  705  93  0.311  0.417  0.247  0.315  0.403\n",
       "3  734  806  69  0.315  0.415  0.260  0.331  0.428\n",
       "4  613  759  61  0.302  0.378  0.240  0.335  0.424"
      ]
     },
     "execution_count": 4,
     "metadata": {},
     "output_type": "execute_result"
    }
   ],
   "source": [
    "dataset=df.iloc[:,[3,4,5,6,7,8,13,14]]\n",
    "dataset.head()"
   ]
  },
  {
   "cell_type": "code",
   "execution_count": 5,
   "metadata": {},
   "outputs": [
    {
     "data": {
      "text/plain": [
       "RS        0\n",
       "RA        0\n",
       "W         0\n",
       "OBP       0\n",
       "SLG       0\n",
       "BA        0\n",
       "OOBP    812\n",
       "OSLG    812\n",
       "dtype: int64"
      ]
     },
     "execution_count": 5,
     "metadata": {},
     "output_type": "execute_result"
    }
   ],
   "source": [
    "dataset.shape\n",
    "dataset.isnull().sum()"
   ]
  },
  {
   "cell_type": "code",
   "execution_count": 6,
   "metadata": {},
   "outputs": [
    {
     "name": "stderr",
     "output_type": "stream",
     "text": [
      "C:\\Users\\DIVYA CHITRANSH\\AppData\\Local\\Temp\\ipykernel_26940\\175157634.py:1: SettingWithCopyWarning: \n",
      "A value is trying to be set on a copy of a slice from a DataFrame\n",
      "\n",
      "See the caveats in the documentation: https://pandas.pydata.org/pandas-docs/stable/user_guide/indexing.html#returning-a-view-versus-a-copy\n",
      "  dataset['OOBP'].fillna(dataset['OOBP'].mean(),inplace=True)\n",
      "C:\\Users\\DIVYA CHITRANSH\\AppData\\Local\\Temp\\ipykernel_26940\\175157634.py:2: SettingWithCopyWarning: \n",
      "A value is trying to be set on a copy of a slice from a DataFrame\n",
      "\n",
      "See the caveats in the documentation: https://pandas.pydata.org/pandas-docs/stable/user_guide/indexing.html#returning-a-view-versus-a-copy\n",
      "  dataset['OSLG'].fillna(dataset['OSLG'].mean(),inplace=True)\n"
     ]
    }
   ],
   "source": [
    "dataset['OOBP'].fillna(dataset['OOBP'].mean(),inplace=True)\n",
    "dataset['OSLG'].fillna(dataset['OSLG'].mean(),inplace=True)"
   ]
  },
  {
   "cell_type": "code",
   "execution_count": 7,
   "metadata": {},
   "outputs": [
    {
     "data": {
      "text/plain": [
       "0"
      ]
     },
     "execution_count": 7,
     "metadata": {},
     "output_type": "execute_result"
    }
   ],
   "source": [
    "dataset['OOBP'].isnull().sum()\n",
    "dataset['OSLG'].isnull().sum()"
   ]
  },
  {
   "cell_type": "markdown",
   "metadata": {
    "id": "FBXdnyYjzmJM"
   },
   "source": [
    "## 3. Applying Hold-out method to create Train and Test split"
   ]
  },
  {
   "cell_type": "code",
   "execution_count": 8,
   "metadata": {
    "id": "OrHGeRwBzmJM"
   },
   "outputs": [],
   "source": [
    "# My_data contains all data points from My_data set from from first feature to 6th feature(indicator features)\n",
    "My_data = dataset.iloc[:,0:7] \n",
    "\n",
    "# My_target contains class information which is 7th feature in the data set of \n",
    "\n",
    "My_data_target=dataset.iloc[:,7]\n",
    "\n",
    "\n",
    "X_train, X_test, Y_train, Y_test = train_test_split(My_data, My_data_target, test_size=0.7, random_state=10)\n",
    "\n",
    "\n",
    "#print(My_data.head())\n",
    "\n",
    "#print(My_data_target.head())"
   ]
  },
  {
   "cell_type": "markdown",
   "metadata": {
    "id": "0U7QAkDtzmJN"
   },
   "source": [
    "## 4.  Building Multiple Linear Regression model"
   ]
  },
  {
   "cell_type": "code",
   "execution_count": 9,
   "metadata": {
    "id": "mfx9YG_JzmJN",
    "outputId": "cbf26814-fdc4-42b0-ecc2-1c586e7df2a5"
   },
   "outputs": [],
   "source": [
    "#Create a Mulitple Linear Regression model.\n",
    "\n",
    "LR_model = linear_model.LinearRegression()\n",
    "\n",
    "#Train the model using the training sets\n",
    "\n",
    "LRfitted = LR_model.fit(X_train, Y_train)\n",
    "\n"
   ]
  },
  {
   "cell_type": "markdown",
   "metadata": {
    "id": "FnAqGzAuzmJO"
   },
   "source": [
    "## 4.1 Understanding the learnt Multiple Linear Regression model\n",
    "\n",
    "1. Getting the intercept \n",
    "2. Getting the coefficients/weights \n",
    "3. Printing the  Multiple Linear Regression model"
   ]
  },
  {
   "cell_type": "code",
   "execution_count": 10,
   "metadata": {
    "id": "DA2smcXnzmJO",
    "outputId": "c8b48d4e-022e-4b65-9335-a51bb558eff3"
   },
   "outputs": [
    {
     "name": "stdout",
     "output_type": "stream",
     "text": [
      "The intercept of the model :  -0.02133966037975049\n",
      "\n",
      "\n",
      "The coefficients learned against each feature present in the data set \n",
      "\n",
      "  Feature_name  Coefficients\n",
      "0           RS      0.000004\n",
      "1           RA      0.000032\n",
      "2            W      0.000115\n",
      "3          OBP     -0.121359\n",
      "4          SLG     -0.023418\n",
      "5           BA      0.088167\n",
      "6         OOBP      1.301133\n",
      "\n",
      "\n",
      "The linear regression model \n",
      "\n",
      "W = -0.02 +  RA X 0.0 + OBP X 0.0 + SLG X 0.0 + BA X -0.12 + Playoff X -0.02 + RD X 0.09 + W X 1.3\n",
      "\n",
      "\n"
     ]
    }
   ],
   "source": [
    "# printing the intercept of the model learned\n",
    "\n",
    "print(\"The intercept of the model : \", LRfitted.intercept_)\n",
    "\n",
    "# printing the coefficients of the model learned against features present in the data set\n",
    "print(\"\\n\")\n",
    "Feature_names = list(My_data.columns.values)\n",
    "table_coeff= pd.DataFrame({'Feature_name':Feature_names , 'Coefficients': LRfitted.coef_})  \n",
    "print(\"The coefficients learned against each feature present in the data set \\n\")\n",
    "print(table_coeff)\n",
    "\n",
    "\n",
    "\n",
    "# printing the Linear regression model\n",
    "print(\"\\n\")\n",
    "print(\"The linear regression model \\n\")\n",
    "\n",
    "print(\"W =\"  ,round(LRfitted.intercept_,2), \"+\", \" RA\" \" X\", round(LRfitted.coef_[0],2)\n",
    "     , \"+ OBP\" \" X\"  ,round(LRfitted.coef_[1],2) , \"+ SLG\" \" X\"  ,round(LRfitted.coef_[2],2)\n",
    "    , \"+ BA\" \" X\"  ,round(LRfitted.coef_[3],2) , \"+ Playoff\" \" X\"  ,round(LRfitted.coef_[4],2)\n",
    "     , \"+ RD\" \" X\"  ,round(LRfitted.coef_[5],2), \"+ W\" \" X\"  ,round(LRfitted.coef_[6],2)\n",
    "     )\n",
    "print(\"\\n\")\n"
   ]
  },
  {
   "cell_type": "markdown",
   "metadata": {
    "id": "F3LEB8fTzmJO"
   },
   "source": [
    "\n",
    "## 5.  Hypothesis Testing\n",
    "\n",
    "This test helps to find the importance of variables( significance) with respect to the hypothesis. To do this, we need to calculate the p value for each variable and if it is less than the desired cutoff( 0.05 is the general cut off for 95% significance) then we can say with confidence that a variable is significant. We can calculate the p-value using another library called ‘statsmodels’.<br>\n",
    "\n",
    "The ordinary least squares (OLS) algorithm is a method for estimating the parameters of a linear regression model. The OLS algorithm aims to find the values of the linear regression model's parameters (i.e., the coefficients) that minimize the sum of the squared residuals."
   ]
  },
  {
   "cell_type": "code",
   "execution_count": 11,
   "metadata": {
    "id": "vz_8Iz3UzmJP",
    "outputId": "76b85bca-d7e3-4a42-9d4f-29aaf6ebdf0d"
   },
   "outputs": [
    {
     "name": "stdout",
     "output_type": "stream",
     "text": [
      "RS      0.39\n",
      "RA      0.02\n",
      "W       0.42\n",
      "OBP     0.03\n",
      "SLG     0.32\n",
      "BA      0.21\n",
      "OOBP    0.00\n",
      "dtype: float64\n"
     ]
    }
   ],
   "source": [
    "import statsmodels.api as sm\n",
    "\n",
    "\n",
    "model = sm.OLS(Y_train, X_train)\n",
    "\n",
    "Statsmodel = model.fit()\n",
    "print(round(Statsmodel.pvalues,2))\n",
    "\n"
   ]
  },
  {
   "cell_type": "markdown",
   "metadata": {
    "id": "vl8L_zpHzmJP"
   },
   "source": [
    "The hypothesis testing reveals that all features other than BA  are statically significant"
   ]
  },
  {
   "cell_type": "markdown",
   "metadata": {
    "id": "DBN4NeW_zmJP"
   },
   "source": [
    "## 5. Apply Model to the Test Set"
   ]
  },
  {
   "cell_type": "code",
   "execution_count": 12,
   "metadata": {
    "id": "qf-nJtX8zmJP"
   },
   "outputs": [],
   "source": [
    "Prediction_test = LRfitted.predict(X_test)\n",
    "Prediction_train = LRfitted.predict(X_train)\n"
   ]
  },
  {
   "cell_type": "markdown",
   "metadata": {
    "id": "FvmUsK4IzmJP"
   },
   "source": [
    "## 6. Evaluate Model Performance on Test set"
   ]
  },
  {
   "cell_type": "code",
   "execution_count": 13,
   "metadata": {
    "id": "M8etmjowzmJQ",
    "outputId": "e4c677e9-2039-4dc7-b1c3-664558c0548f"
   },
   "outputs": [
    {
     "name": "stdout",
     "output_type": "stream",
     "text": [
      "The coefficients for each indicator feature in data set are\n",
      "        Actual  Predicted\n",
      "123   0.390000   0.405957\n",
      "691   0.419743   0.420124\n",
      "1130  0.419743   0.418473\n",
      "778   0.419743   0.422944\n",
      "716   0.419743   0.420857\n",
      "...        ...        ...\n",
      "14    0.399000   0.412673\n",
      "214   0.407000   0.410242\n",
      "893   0.419743   0.421725\n",
      "327   0.463000   0.456414\n",
      "160   0.442000   0.464139\n",
      "\n",
      "[863 rows x 2 columns]\n"
     ]
    },
    {
     "data": {
      "text/plain": [
       "Text(0, 0.5, 'Predicted values')"
      ]
     },
     "execution_count": 13,
     "metadata": {},
     "output_type": "execute_result"
    },
    {
     "data": {
      "image/png": "[encoded data removed]",
      "text/plain": [
       "<Figure size 432x288 with 1 Axes>"
      ]
     },
     "metadata": {
      "needs_background": "light"
     },
     "output_type": "display_data"
    }
   ],
   "source": [
    "#Predict the response on the test data set\n",
    "\n",
    "print(\"The coefficients for each indicator feature in data set are\")\n",
    "\n",
    "Performance= pd.DataFrame({'Actual':Y_test, 'Predicted': Prediction_test})  \n",
    "\n",
    "print(Performance)\n",
    "\n",
    "plt.scatter(Y_test, Prediction_test,  color='blue')\n",
    "\n",
    "plt.title('Relation between true vs. predicted values')\n",
    "plt.xlabel('Actual values')\n",
    "plt.ylabel('Predicted values')\n"
   ]
  },
  {
   "cell_type": "markdown",
   "metadata": {
    "id": "C7K54im0zmJQ"
   },
   "source": [
    "The output in the table details the actual and predicted values by the model. It is observed from the entries that the model learnt is very close to the actual values. The same is demonstrated by the figure. "
   ]
  },
  {
   "cell_type": "markdown",
   "metadata": {
    "id": "7h4T0z2czmJQ"
   },
   "source": [
    "## 7. Evaluating the Performance of the model"
   ]
  },
  {
   "cell_type": "code",
   "execution_count": 14,
   "metadata": {
    "id": "0ulNLx-lzmJQ",
    "outputId": "48b13c9d-c857-46ba-c6f6-3893c92ef87c"
   },
   "outputs": [
    {
     "name": "stdout",
     "output_type": "stream",
     "text": [
      "Mean absolute Error: 0.0\n",
      "\n",
      "\n",
      "Mean squared Error: 0.0\n",
      "\n",
      "\n",
      "R2 score: 71.32 %\n"
     ]
    }
   ],
   "source": [
    "# summarize the performance of the model using MAE, MSE and Rsquare\n",
    "\n",
    "print(\"Mean absolute Error:\", round(metrics.mean_absolute_error(Y_test, Prediction_test),2))\n",
    "print(\"\\n\")\n",
    "print(\"Mean squared Error:\", round(metrics.mean_squared_error(Y_test, Prediction_test),2))\n",
    "print(\"\\n\")\n",
    "print(\"R2 score:\", round(metrics.r2_score(Y_test, Prediction_test),4)*100,\"%\")"
   ]
  },
  {
   "cell_type": "markdown",
   "metadata": {
    "id": "3WbIVn67zmJR"
   },
   "source": [
    "The low MAE, MSE and high R2 score is 88.32% indicates a good model "
   ]
  },
  {
   "cell_type": "markdown",
   "metadata": {
    "id": "wbo2o0zJzmJR"
   },
   "source": [
    "## 8.  Overcoming  Model overfitting, Collinearity and Model complexity using Regularization\n",
    "\n",
    "In general a good model is the one that just not fit good to the sample of data set provided but, also to the any new sample of data set. Overfitting is a situation where models fits excellent on the training data set but, fails to produce the same result on the testing data set. Overfitting is a common issue in supervised learning and shall be avoided. Other most common issue in multiple linear regression is model complexity where, the weights learnt by the model are heavy. The aim is to produce less complex model for easy understanding and analysing than producing complex models difficult to interpret. The model complexity increases with presence of collinearity in features present in the data set. Collinearity indicates high correlation amnong indicator features. To produce model that does not overfit and is less complex in nature, the collinearity has to handled. \n",
    "\n",
    "The practical demonstration below details the effect of collinearity and overfitting issues and methods to overcome them. "
   ]
  },
  {
   "cell_type": "markdown",
   "metadata": {
    "id": "qmHE9GuUzmJR"
   },
   "source": [
    "### 8.1 Generating Correlation matrix "
   ]
  },
  {
   "cell_type": "code",
   "execution_count": 15,
   "metadata": {
    "id": "TkP_Yy0RzmJR",
    "outputId": "75d657f0-894f-4c73-a975-ea3f26ee5443"
   },
   "outputs": [
    {
     "data": {
      "text/html": [
       "<style type=\"text/css\">\n",
       "#T_a3643_row0_col0, #T_a3643_row1_col1, #T_a3643_row2_col2, #T_a3643_row3_col3, #T_a3643_row4_col4, #T_a3643_row5_col5, #T_a3643_row6_col6, #T_a3643_row7_col7 {\n",
       "  background-color: #b40426;\n",
       "  color: #f1f1f1;\n",
       "}\n",
       "#T_a3643_row0_col1 {\n",
       "  background-color: #f1ccb8;\n",
       "  color: #000000;\n",
       "}\n",
       "#T_a3643_row0_col2 {\n",
       "  background-color: #f7b396;\n",
       "  color: #000000;\n",
       "}\n",
       "#T_a3643_row0_col3, #T_a3643_row3_col0 {\n",
       "  background-color: #d85646;\n",
       "  color: #f1f1f1;\n",
       "}\n",
       "#T_a3643_row0_col4, #T_a3643_row4_col0 {\n",
       "  background-color: #d24b40;\n",
       "  color: #f1f1f1;\n",
       "}\n",
       "#T_a3643_row0_col5 {\n",
       "  background-color: #ec8165;\n",
       "  color: #f1f1f1;\n",
       "}\n",
       "#T_a3643_row0_col6 {\n",
       "  background-color: #a7c5fe;\n",
       "  color: #000000;\n",
       "}\n",
       "#T_a3643_row0_col7 {\n",
       "  background-color: #a9c6fd;\n",
       "  color: #000000;\n",
       "}\n",
       "#T_a3643_row1_col0 {\n",
       "  background-color: #aac7fd;\n",
       "  color: #000000;\n",
       "}\n",
       "#T_a3643_row1_col2, #T_a3643_row2_col1, #T_a3643_row2_col6, #T_a3643_row2_col7, #T_a3643_row6_col0, #T_a3643_row6_col3, #T_a3643_row6_col4, #T_a3643_row6_col5 {\n",
       "  background-color: #3b4cc0;\n",
       "  color: #f1f1f1;\n",
       "}\n",
       "#T_a3643_row1_col3 {\n",
       "  background-color: #97b8ff;\n",
       "  color: #000000;\n",
       "}\n",
       "#T_a3643_row1_col4 {\n",
       "  background-color: #bfd3f6;\n",
       "  color: #000000;\n",
       "}\n",
       "#T_a3643_row1_col5 {\n",
       "  background-color: #90b2fe;\n",
       "  color: #000000;\n",
       "}\n",
       "#T_a3643_row1_col6 {\n",
       "  background-color: #f5c1a9;\n",
       "  color: #000000;\n",
       "}\n",
       "#T_a3643_row1_col7 {\n",
       "  background-color: #f5c4ac;\n",
       "  color: #000000;\n",
       "}\n",
       "#T_a3643_row2_col0 {\n",
       "  background-color: #d6dce4;\n",
       "  color: #000000;\n",
       "}\n",
       "#T_a3643_row2_col3 {\n",
       "  background-color: #cedaeb;\n",
       "  color: #000000;\n",
       "}\n",
       "#T_a3643_row2_col4 {\n",
       "  background-color: #b2ccfb;\n",
       "  color: #000000;\n",
       "}\n",
       "#T_a3643_row2_col5, #T_a3643_row5_col6 {\n",
       "  background-color: #aec9fc;\n",
       "  color: #000000;\n",
       "}\n",
       "#T_a3643_row3_col1 {\n",
       "  background-color: #ebd3c6;\n",
       "  color: #000000;\n",
       "}\n",
       "#T_a3643_row3_col2 {\n",
       "  background-color: #f7b99e;\n",
       "  color: #000000;\n",
       "}\n",
       "#T_a3643_row3_col4, #T_a3643_row4_col3, #T_a3643_row5_col4 {\n",
       "  background-color: #f18f71;\n",
       "  color: #f1f1f1;\n",
       "}\n",
       "#T_a3643_row3_col5 {\n",
       "  background-color: #e7745b;\n",
       "  color: #f1f1f1;\n",
       "}\n",
       "#T_a3643_row3_col6, #T_a3643_row4_col6, #T_a3643_row4_col7 {\n",
       "  background-color: #a6c4fe;\n",
       "  color: #000000;\n",
       "}\n",
       "#T_a3643_row3_col7 {\n",
       "  background-color: #a3c2fe;\n",
       "  color: #000000;\n",
       "}\n",
       "#T_a3643_row4_col1 {\n",
       "  background-color: #f5c2aa;\n",
       "  color: #000000;\n",
       "}\n",
       "#T_a3643_row4_col2 {\n",
       "  background-color: #f3c8b2;\n",
       "  color: #000000;\n",
       "}\n",
       "#T_a3643_row4_col5 {\n",
       "  background-color: #f29274;\n",
       "  color: #f1f1f1;\n",
       "}\n",
       "#T_a3643_row5_col0 {\n",
       "  background-color: #eb7d62;\n",
       "  color: #f1f1f1;\n",
       "}\n",
       "#T_a3643_row5_col1 {\n",
       "  background-color: #ecd3c5;\n",
       "  color: #000000;\n",
       "}\n",
       "#T_a3643_row5_col2 {\n",
       "  background-color: #f3c7b1;\n",
       "  color: #000000;\n",
       "}\n",
       "#T_a3643_row5_col3 {\n",
       "  background-color: #e57058;\n",
       "  color: #f1f1f1;\n",
       "}\n",
       "#T_a3643_row5_col7 {\n",
       "  background-color: #adc9fd;\n",
       "  color: #000000;\n",
       "}\n",
       "#T_a3643_row6_col1, #T_a3643_row7_col1 {\n",
       "  background-color: #f7b599;\n",
       "  color: #000000;\n",
       "}\n",
       "#T_a3643_row6_col2 {\n",
       "  background-color: #5a78e4;\n",
       "  color: #f1f1f1;\n",
       "}\n",
       "#T_a3643_row6_col7 {\n",
       "  background-color: #de614d;\n",
       "  color: #f1f1f1;\n",
       "}\n",
       "#T_a3643_row7_col0, #T_a3643_row7_col4 {\n",
       "  background-color: #445acc;\n",
       "  color: #f1f1f1;\n",
       "}\n",
       "#T_a3643_row7_col2 {\n",
       "  background-color: #6282ea;\n",
       "  color: #f1f1f1;\n",
       "}\n",
       "#T_a3643_row7_col3 {\n",
       "  background-color: #3f53c6;\n",
       "  color: #f1f1f1;\n",
       "}\n",
       "#T_a3643_row7_col5 {\n",
       "  background-color: #4257c9;\n",
       "  color: #f1f1f1;\n",
       "}\n",
       "#T_a3643_row7_col6 {\n",
       "  background-color: #dd5f4b;\n",
       "  color: #f1f1f1;\n",
       "}\n",
       "</style>\n",
       "<table id=\"T_a3643\">\n",
       "  <thead>\n",
       "    <tr>\n",
       "      <th class=\"blank level0\" >&nbsp;</th>\n",
       "      <th id=\"T_a3643_level0_col0\" class=\"col_heading level0 col0\" >RS</th>\n",
       "      <th id=\"T_a3643_level0_col1\" class=\"col_heading level0 col1\" >RA</th>\n",
       "      <th id=\"T_a3643_level0_col2\" class=\"col_heading level0 col2\" >W</th>\n",
       "      <th id=\"T_a3643_level0_col3\" class=\"col_heading level0 col3\" >OBP</th>\n",
       "      <th id=\"T_a3643_level0_col4\" class=\"col_heading level0 col4\" >SLG</th>\n",
       "      <th id=\"T_a3643_level0_col5\" class=\"col_heading level0 col5\" >BA</th>\n",
       "      <th id=\"T_a3643_level0_col6\" class=\"col_heading level0 col6\" >OOBP</th>\n",
       "      <th id=\"T_a3643_level0_col7\" class=\"col_heading level0 col7\" >OSLG</th>\n",
       "    </tr>\n",
       "  </thead>\n",
       "  <tbody>\n",
       "    <tr>\n",
       "      <th id=\"T_a3643_level0_row0\" class=\"row_heading level0 row0\" >RS</th>\n",
       "      <td id=\"T_a3643_row0_col0\" class=\"data row0 col0\" >1.000000</td>\n",
       "      <td id=\"T_a3643_row0_col1\" class=\"data row0 col1\" >0.380139</td>\n",
       "      <td id=\"T_a3643_row0_col2\" class=\"data row0 col2\" >0.511745</td>\n",
       "      <td id=\"T_a3643_row0_col3\" class=\"data row0 col3\" >0.900492</td>\n",
       "      <td id=\"T_a3643_row0_col4\" class=\"data row0 col4\" >0.918740</td>\n",
       "      <td id=\"T_a3643_row0_col5\" class=\"data row0 col5\" >0.827000</td>\n",
       "      <td id=\"T_a3643_row0_col6\" class=\"data row0 col6\" >0.071329</td>\n",
       "      <td id=\"T_a3643_row0_col7\" class=\"data row0 col7\" >0.102976</td>\n",
       "    </tr>\n",
       "    <tr>\n",
       "      <th id=\"T_a3643_level0_row1\" class=\"row_heading level0 row1\" >RA</th>\n",
       "      <td id=\"T_a3643_row1_col0\" class=\"data row1 col0\" >0.380139</td>\n",
       "      <td id=\"T_a3643_row1_col1\" class=\"data row1 col1\" >1.000000</td>\n",
       "      <td id=\"T_a3643_row1_col2\" class=\"data row1 col2\" >-0.532394</td>\n",
       "      <td id=\"T_a3643_row1_col3\" class=\"data row1 col3\" >0.326360</td>\n",
       "      <td id=\"T_a3643_row1_col4\" class=\"data row1 col4\" >0.436527</td>\n",
       "      <td id=\"T_a3643_row1_col5\" class=\"data row1 col5\" >0.330764</td>\n",
       "      <td id=\"T_a3643_row1_col6\" class=\"data row1 col6\" >0.500050</td>\n",
       "      <td id=\"T_a3643_row1_col7\" class=\"data row1 col7\" >0.499487</td>\n",
       "    </tr>\n",
       "    <tr>\n",
       "      <th id=\"T_a3643_level0_row2\" class=\"row_heading level0 row2\" >W</th>\n",
       "      <td id=\"T_a3643_row2_col0\" class=\"data row2 col0\" >0.511745</td>\n",
       "      <td id=\"T_a3643_row2_col1\" class=\"data row2 col1\" >-0.532394</td>\n",
       "      <td id=\"T_a3643_row2_col2\" class=\"data row2 col2\" >1.000000</td>\n",
       "      <td id=\"T_a3643_row2_col3\" class=\"data row2 col3\" >0.481836</td>\n",
       "      <td id=\"T_a3643_row2_col4\" class=\"data row2 col4\" >0.401496</td>\n",
       "      <td id=\"T_a3643_row2_col5\" class=\"data row2 col5\" >0.408716</td>\n",
       "      <td id=\"T_a3643_row2_col6\" class=\"data row2 col6\" >-0.376013</td>\n",
       "      <td id=\"T_a3643_row2_col7\" class=\"data row2 col7\" >-0.336993</td>\n",
       "    </tr>\n",
       "    <tr>\n",
       "      <th id=\"T_a3643_level0_row3\" class=\"row_heading level0 row3\" >OBP</th>\n",
       "      <td id=\"T_a3643_row3_col0\" class=\"data row3 col0\" >0.900492</td>\n",
       "      <td id=\"T_a3643_row3_col1\" class=\"data row3 col1\" >0.326360</td>\n",
       "      <td id=\"T_a3643_row3_col2\" class=\"data row3 col2\" >0.481836</td>\n",
       "      <td id=\"T_a3643_row3_col3\" class=\"data row3 col3\" >1.000000</td>\n",
       "      <td id=\"T_a3643_row3_col4\" class=\"data row3 col4\" >0.790910</td>\n",
       "      <td id=\"T_a3643_row3_col5\" class=\"data row3 col5\" >0.851958</td>\n",
       "      <td id=\"T_a3643_row3_col6\" class=\"data row3 col6\" >0.065499</td>\n",
       "      <td id=\"T_a3643_row3_col7\" class=\"data row3 col7\" >0.083472</td>\n",
       "    </tr>\n",
       "    <tr>\n",
       "      <th id=\"T_a3643_level0_row4\" class=\"row_heading level0 row4\" >SLG</th>\n",
       "      <td id=\"T_a3643_row4_col0\" class=\"data row4 col0\" >0.918740</td>\n",
       "      <td id=\"T_a3643_row4_col1\" class=\"data row4 col1\" >0.436527</td>\n",
       "      <td id=\"T_a3643_row4_col2\" class=\"data row4 col2\" >0.401496</td>\n",
       "      <td id=\"T_a3643_row4_col3\" class=\"data row4 col3\" >0.790910</td>\n",
       "      <td id=\"T_a3643_row4_col4\" class=\"data row4 col4\" >1.000000</td>\n",
       "      <td id=\"T_a3643_row4_col5\" class=\"data row4 col5\" >0.790481</td>\n",
       "      <td id=\"T_a3643_row4_col6\" class=\"data row4 col6\" >0.065848</td>\n",
       "      <td id=\"T_a3643_row4_col7\" class=\"data row4 col7\" >0.096316</td>\n",
       "    </tr>\n",
       "    <tr>\n",
       "      <th id=\"T_a3643_level0_row5\" class=\"row_heading level0 row5\" >BA</th>\n",
       "      <td id=\"T_a3643_row5_col0\" class=\"data row5 col0\" >0.827000</td>\n",
       "      <td id=\"T_a3643_row5_col1\" class=\"data row5 col1\" >0.330764</td>\n",
       "      <td id=\"T_a3643_row5_col2\" class=\"data row5 col2\" >0.408716</td>\n",
       "      <td id=\"T_a3643_row5_col3\" class=\"data row5 col3\" >0.851958</td>\n",
       "      <td id=\"T_a3643_row5_col4\" class=\"data row5 col4\" >0.790481</td>\n",
       "      <td id=\"T_a3643_row5_col5\" class=\"data row5 col5\" >1.000000</td>\n",
       "      <td id=\"T_a3643_row5_col6\" class=\"data row5 col6\" >0.097967</td>\n",
       "      <td id=\"T_a3643_row5_col7\" class=\"data row5 col7\" >0.119277</td>\n",
       "    </tr>\n",
       "    <tr>\n",
       "      <th id=\"T_a3643_level0_row6\" class=\"row_heading level0 row6\" >OOBP</th>\n",
       "      <td id=\"T_a3643_row6_col0\" class=\"data row6 col0\" >0.071329</td>\n",
       "      <td id=\"T_a3643_row6_col1\" class=\"data row6 col1\" >0.500050</td>\n",
       "      <td id=\"T_a3643_row6_col2\" class=\"data row6 col2\" >-0.376013</td>\n",
       "      <td id=\"T_a3643_row6_col3\" class=\"data row6 col3\" >0.065499</td>\n",
       "      <td id=\"T_a3643_row6_col4\" class=\"data row6 col4\" >0.065848</td>\n",
       "      <td id=\"T_a3643_row6_col5\" class=\"data row6 col5\" >0.097967</td>\n",
       "      <td id=\"T_a3643_row6_col6\" class=\"data row6 col6\" >1.000000</td>\n",
       "      <td id=\"T_a3643_row6_col7\" class=\"data row6 col7\" >0.830902</td>\n",
       "    </tr>\n",
       "    <tr>\n",
       "      <th id=\"T_a3643_level0_row7\" class=\"row_heading level0 row7\" >OSLG</th>\n",
       "      <td id=\"T_a3643_row7_col0\" class=\"data row7 col0\" >0.102976</td>\n",
       "      <td id=\"T_a3643_row7_col1\" class=\"data row7 col1\" >0.499487</td>\n",
       "      <td id=\"T_a3643_row7_col2\" class=\"data row7 col2\" >-0.336993</td>\n",
       "      <td id=\"T_a3643_row7_col3\" class=\"data row7 col3\" >0.083472</td>\n",
       "      <td id=\"T_a3643_row7_col4\" class=\"data row7 col4\" >0.096316</td>\n",
       "      <td id=\"T_a3643_row7_col5\" class=\"data row7 col5\" >0.119277</td>\n",
       "      <td id=\"T_a3643_row7_col6\" class=\"data row7 col6\" >0.830902</td>\n",
       "      <td id=\"T_a3643_row7_col7\" class=\"data row7 col7\" >1.000000</td>\n",
       "    </tr>\n",
       "  </tbody>\n",
       "</table>\n"
      ],
      "text/plain": [
       "<pandas.io.formats.style.Styler at 0x1bbd31e87f0>"
      ]
     },
     "execution_count": 15,
     "metadata": {},
     "output_type": "execute_result"
    }
   ],
   "source": [
    "# the corr() function generates pair wise correlation between features\n",
    "corr = dataset.corr()\n",
    "# following code is used to visually inspect the pair wise correlation\n",
    "corr.style.background_gradient(cmap='coolwarm')\n"
   ]
  },
  {
   "cell_type": "markdown",
   "metadata": {
    "id": "W55vtlnuzmJS"
   },
   "source": [
    "As indicated by the results, R, OBP. SLG. BA are very strongly correlated. In order to understand the effect of this correlation on the output of multiple linear regression modeling, we create three different models:\n",
    "\n",
    "Model 1: having features RS and OBP\n",
    "\n",
    "Model 2: having features RS, OBP and SLG\n",
    "\n",
    "Model 3: having features RS, OBP, SLG and BA\n",
    "\n",
    "Following section creates data sets for generation of these models. \n",
    "\n",
    "## 8.2 Creating data sets using Hold -out for Generating models in presence of high  correlated features|"
   ]
  },
  {
   "cell_type": "code",
   "execution_count": 16,
   "metadata": {
    "id": "pUlqJ4I6zmJS"
   },
   "outputs": [],
   "source": [
    "# creating data set for model containing RS and OBP\n",
    "\n",
    "My_data_two = dataset.iloc[:,[0,2]] \n",
    "\n",
    "My_data_two_target=dataset.iloc[:,7]\n",
    "\n",
    "\n",
    "X_train_two, X_test_two, Y_train_two, Y_test_two = train_test_split(My_data_two, My_data_two_target, test_size=0.7, random_state=10)\n",
    "\n",
    "\n",
    "# creating data set for model containing RS,  OBP, SLG\n",
    "\n",
    "My_data_three= dataset.iloc[:,[0,2,3]] \n",
    "\n",
    "My_data_three_target=dataset.iloc[:,7]\n",
    "\n",
    "\n",
    "X_train_three, X_test_three, Y_train_three, Y_test_three = train_test_split(My_data_three, My_data_three_target, test_size=0.7, random_state=10)\n",
    "\n",
    "# creating data set for model containing RS,OBP, SLG, BA\n",
    "\n",
    "My_data_four = dataset.iloc[:,[0,2, 3,4]] \n",
    "\n",
    "My_data_four_target=dataset.iloc[:,7]\n",
    "\n",
    "\n",
    "X_train_four, X_test_four, Y_train_four, Y_test_four = train_test_split(My_data_four, My_data_four_target, test_size=0.7, random_state=10)\n"
   ]
  },
  {
   "cell_type": "markdown",
   "metadata": {
    "id": "KucQpN23zmJT"
   },
   "source": [
    "## 8.3 Training  the three new models\n"
   ]
  },
  {
   "cell_type": "code",
   "execution_count": 17,
   "metadata": {
    "id": "TdF6Rn_FzmJT"
   },
   "outputs": [],
   "source": [
    "\n",
    "#Train the model using X_train_two, Y_train_two associated with data set containing\n",
    "#features RS, OBP\n",
    "#we call the linearr regression model again and again as its fitted with one data, it will predict on the basis of its fitted curve\n",
    "\n",
    "LR_model_two = linear_model.LinearRegression()\n",
    "LRfitted_two = LR_model_two.fit(X_train_two, Y_train_two)\n",
    "\n",
    "#Train the model using X_train_three, Y_train_three associated with data set containing\n",
    "#features RS, OBP, SLG\n",
    "\n",
    "LR_model_three = linear_model.LinearRegression()\n",
    "LRfitted_three = LR_model_three.fit(X_train_three, Y_train_three)\n",
    "\n",
    "#Train the model using X_train_four, Y_train_four associated with data set containing\n",
    "#features RS, OBP, SLG, BA\n",
    "\n",
    "LR_model_four = linear_model.LinearRegression()\n",
    "LRfitted_four = LR_model_four.fit(X_train_four, Y_train_four)\n"
   ]
  },
  {
   "cell_type": "markdown",
   "metadata": {
    "id": "ZgvEpdG4zmJU"
   },
   "source": [
    "## 8.4 Predicting training and test error for different models\n",
    "\n",
    "The training and test errors gives a good indication of overfitting. High training error and low test errors is indication to model overfitting. The code below evaluate model performance on training and test set. The errors are computed using the difference between actual and predicted values by the model. To do this, we need to predict the training and testing errors using predict() function on all the models generated so far :\n",
    "\n",
    "Model 1: having features RS and OBP\n",
    "\n",
    "Model 2: having features RS, OBP and SLG\n",
    "\n",
    "Model 3: having features RS, OBP, SLG and BA\n",
    "\n",
    "Model 4: original model containing all features\n"
   ]
  },
  {
   "cell_type": "code",
   "execution_count": 18,
   "metadata": {
    "id": "65ARmwx0zmJU"
   },
   "outputs": [],
   "source": [
    "# Predicting training and testing error on X_train_two, X_test_two \n",
    "# (model with features RS and OBP)\n",
    "\n",
    "Prediction_train_two = LRfitted_two.predict(X_train_two)\n",
    "Prediction_test_two = LRfitted_two.predict(X_test_two)\n",
    "\n",
    "\n",
    "# Predicting training and testing error on X_train_three, X_test_three \n",
    "# (model with features RS, OBP, SLG )\n",
    "\n",
    "Prediction_train_three = LRfitted_three.predict(X_train_three)\n",
    "Prediction_test_three = LRfitted_three.predict(X_test_three)\n",
    "\n",
    "# Predicting training and testing error on X_train_four, X_test_four \n",
    "# (model with features RS, OBP, SLG, BA )\n",
    "\n",
    "Prediction_train_four = LRfitted_four.predict(X_train_four)\n",
    "Prediction_test_four = LRfitted_four.predict(X_test_four)\n",
    "\n",
    "#Predicting training and testing error on X_train, X_test \n",
    "# (model with all features RS,RA, OBP, SLG, BA, Playoff, RD )\n",
    "\n",
    "Prediction_train_all = LRfitted.predict(X_train)\n",
    "Prediction_test_all = LRfitted.predict(X_test)\n"
   ]
  },
  {
   "cell_type": "markdown",
   "metadata": {
    "id": "lCL3XmUjzmJU"
   },
   "source": [
    "## 8.5 Preparing summary of  Train, Test error, Sum of absolute weights for different models"
   ]
  },
  {
   "cell_type": "code",
   "execution_count": 19,
   "metadata": {
    "id": "rVcVPTZZzmJU",
    "outputId": "72062740-dae1-4e0b-db4b-206e83c0758a"
   },
   "outputs": [
    {
     "name": "stdout",
     "output_type": "stream",
     "text": [
      "           Model  Train Errors  Test Errors       SAW Rsquare %\n",
      "0     RS and OBP          0.01         0.01  0.435749       ---\n",
      "1     RS,OBP,SLG          0.01         0.01  0.455684       ---\n",
      "2  RS,OBP,SLG,BA          0.01         0.01  0.596245       ---\n",
      "3   All features          0.00         0.00  1.555568     71.32\n"
     ]
    }
   ],
   "source": [
    "\n",
    "columns =['Model', 'Train Errors', 'Test Errors', 'SAW', 'Rsquare %']\n",
    "######################## Summary of Model one ###########################\n",
    "# Summary of training,test error and sum of absolute Weights(SAW) for model containing \n",
    "# features RS and OBP\n",
    "\n",
    "Reg_model1 = \"RS and OBP\"\n",
    "\n",
    "Reg_model1_values = [Reg_model1, \n",
    "                 round(metrics.mean_absolute_error(Y_train_two, Prediction_train_two),2),\n",
    "                round(metrics.mean_absolute_error(Y_test_two, Prediction_test_two),2),\n",
    "              np.absolute(LRfitted_two.coef_).sum() + np.absolute(LRfitted_two.intercept_),\n",
    "                 '---'   ]\n",
    "######################## Summary of Model two ###########################\n",
    "# Summary of training,test error and sum of absolute Weights(SAW) for model containing \n",
    "# features RS ,OBP, SLG\n",
    "\n",
    "Reg_model2 = \"RS,OBP,SLG\"\n",
    "\n",
    "Reg_model2_values = [Reg_model2, \n",
    "               round(metrics.mean_absolute_error(Y_train_three, Prediction_train_three),2),\n",
    "               round(metrics.mean_absolute_error(Y_test_three, Prediction_test_three),2),\n",
    "            np.absolute(LRfitted_three.coef_).sum() +np.absolute(LRfitted_three.intercept_),\n",
    "               \"---\"     ]\n",
    "######################## Summary of Model three  ###########################\n",
    "# Summary of training,test error and sum of absolute Weights(SAW) for model containing \n",
    "# features RS ,OBP, SLG, BA\n",
    "\n",
    "Reg_model3 = \"RS,OBP,SLG,BA\"\n",
    "\n",
    "Reg_model3_values = [Reg_model3, \n",
    "                round(metrics.mean_absolute_error(Y_train_four, Prediction_train_four),2),\n",
    "                round(metrics.mean_absolute_error(Y_test_four, Prediction_test_four),2),\n",
    "             np.absolute(LRfitted_four.coef_).sum() + np.absolute(LRfitted_four.intercept_),\n",
    "                 '---'   ]\n",
    "\n",
    "\n",
    "######################## Summary of Model four  ###########################\n",
    "# Summary of training,test error and sum of absolute Weights(SAW) for model containing \n",
    "# all features\n",
    "\n",
    "Reg_model4 = \"All features\"\n",
    "\n",
    "Reg_model4_values = [Reg_model4, \n",
    "                 round(metrics.mean_absolute_error(Y_train, Prediction_train),2),\n",
    "                round(metrics.mean_absolute_error(Y_test, Prediction_test),2),\n",
    "           np.absolute( LRfitted.coef_).sum() + np.absolute(LRfitted.intercept_),\n",
    "            round(metrics.r2_score(Y_test, Prediction_test),4)*100 ]\n",
    "\n",
    "Models_summary = pd.DataFrame([Reg_model1_values, Reg_model2_values, \n",
    "                               Reg_model3_values,Reg_model4_values\n",
    "                               ],\n",
    "                              columns= columns)\n",
    "print(Models_summary)\n",
    "\n"
   ]
  },
  {
   "cell_type": "markdown",
   "metadata": {
    "id": "pLuzg8EJzmJV"
   },
   "source": [
    "As indicated by the train and test errors on all the models, overfitting does not seem to an issue. However, as the number of correlated features increases in the model, the complexity grows, as indicated by the column SAW(sum of absolute weights). \n",
    "\n",
    "The next part of this tutorial aims to produce low complex model by treating the correlated features present in the data set using Regularization. It is a technique that controls overfitting, produces less complex model with higher performance rates. There are three types of regularization:\n",
    "\n",
    "1. Ridge(L2) \n",
    "\n",
    "    - it produces low complex model\n",
    "    - reduces the collinearity\n",
    "    - not suitable for high dimensional data\n",
    "    \n",
    "2. Lasso (L1)\n",
    "    \n",
    "    - provides important features for deciding the outcome. \n",
    "    - reduces the collinearity\n",
    "    - produces low complex model\n",
    "    - suitable for high dimensional data\n",
    "    \n",
    "3. Elastic net\n",
    "\n",
    "    - combines features of both L1 and L2\n",
    "    \n",
    "    \n",
    "    "
   ]
  },
  {
   "cell_type": "markdown",
   "metadata": {
    "id": "zXhVSBwizmJV"
   },
   "source": [
    "## 8.5 Implementing Ridge\n",
    "\n",
    "Ridge will be implemented for on the original data set to make it less complex (by\n",
    "removing the collinearity that results in lowering the sum of absolute weights). The\n",
    "Ridge model is also evaluated for training and testing errors. The final results of Ridge application is added in the data frame containing previous results\n"
   ]
  },
  {
   "cell_type": "code",
   "execution_count": 20,
   "metadata": {
    "id": "OWum_thrzmJV"
   },
   "outputs": [],
   "source": [
    "# Using Ridge function, create its object. Ridge is controlled by parameter alpha. It can \n",
    "#be set by the user to tune results. \n",
    "\n",
    "ridge = linear_model.Ridge(alpha =1)\n",
    "\n",
    "# Fitting ridge on data set containing all features\n",
    "ridge.fit(X_train, Y_train)\n",
    "\n",
    "# Getting prediction on train and test sets\n",
    "Ridge_pred_train = ridge.predict(X_train)\n",
    "Ridge_pred_test= ridge.predict(X_test)\n",
    "\n",
    "# preparing summary of training, test errors, sum of absolute Weights(SAW) and rsquare\n",
    "\n",
    "Reg_model_Ridge = \"Ridge on All features\"\n",
    "Ridge_values = [Reg_model_Ridge,\n",
    "        round(metrics.mean_absolute_error(Y_train, Ridge_pred_train),2),\n",
    "        round(metrics.mean_absolute_error(Y_test, Ridge_pred_test),2),\n",
    "        np.absolute(ridge.coef_).sum() +np.absolute(ridge.intercept_ ),\n",
    "         round(metrics.r2_score(Y_test, Ridge_pred_test),4)*100           ]\n"
   ]
  },
  {
   "cell_type": "markdown",
   "metadata": {
    "id": "H2mM9wE4zmJW"
   },
   "source": [
    "## 8.6 Implementing Lasso Regression\n",
    "\n",
    "The following code implements LASSO on the original data set to make it less complex (by\n",
    "removing the collinearity that results in lowering the sum of absolute weights) andto find important features for the decision variable. The LASSO model is also evaluated for training and testing errors. The final results of LASSO application is added in the data frame containing previous results"
   ]
  },
  {
   "cell_type": "code",
   "execution_count": 21,
   "metadata": {
    "id": "KmGrBWkuzmJW",
    "outputId": "351c2eeb-8191-4b2a-9378-0a58faefbab7"
   },
   "outputs": [],
   "source": [
    "# Loading library\n",
    "\n",
    "\n",
    "# Using lasso function, create its object. lasso is controlled by parameter alpha. It can \n",
    "#be set by the user to tune results. \n",
    "\n",
    "lasso = linear_model.Lasso(alpha =0.2)\n",
    "\n",
    "# Fitting lasso on data set containing all features\n",
    "lasso.fit(X_train, Y_train)\n",
    "\n",
    "# Getting prediction on train and test sets\n",
    "lasso_pred_train = lasso.predict(X_train)\n",
    "lasso_pred_test= lasso.predict(X_test)\n",
    "\n",
    "# preparing summary of training, test errors, sum of absolute Weights(SAW) and rsquare\n",
    "Reg_model_Lasso = \"Lasso on All features\"\n",
    "Lasso_values = [Reg_model_Lasso,\n",
    "        round(metrics.mean_absolute_error(Y_train, lasso_pred_train),2),\n",
    "        round(metrics.mean_absolute_error(Y_test, lasso_pred_test),2),\n",
    "        np.absolute(lasso.coef_).sum() +np.absolute(lasso.intercept_ ),\n",
    "         round(metrics.r2_score(Y_test, lasso_pred_test),4)*100           ]\n",
    "\n"
   ]
  },
  {
   "cell_type": "markdown",
   "metadata": {
    "id": "GEv1PZUVzmJW"
   },
   "source": [
    "### 8.6.1 Analysing important features as resulted by LASSO regularization\n",
    "\n",
    "The key aim is to discover how many variables Lasso picked out of total list of features present in the data set ? For non relevant features, LASSO makes the coefficient equal to \n",
    "zero.  The following code find all those features where the coefficients(weights) of the \n",
    "LASSO model for features were discovered to be zero. \n",
    "\n",
    "\n"
   ]
  },
  {
   "cell_type": "code",
   "execution_count": 24,
   "metadata": {
    "id": "O8duq3WYzmJX",
    "outputId": "63e4bc43-729c-4e7a-acb2-afc9a3d462b4"
   },
   "outputs": [
    {
     "name": "stdout",
     "output_type": "stream",
     "text": [
      "\n",
      "\n",
      "Lasso picked 1 features and eliminated the other 6 variables\n",
      "\n",
      "\n",
      "List of Relevant features: \n",
      "  ['RA']\n",
      "\n",
      "\n",
      "List of Nonrelevant features: \n",
      "  ['RS', 'W', 'OBP', 'SLG', 'BA', 'OOBP']\n"
     ]
    }
   ],
   "source": [
    "# Performance of Lasso \n",
    "print(\"\\n\")\n",
    "print(\"Lasso picked \" + str(sum(lasso.coef_!= 0)) \n",
    "      + \" features and eliminated the other \" +  \n",
    "      str(sum(lasso.coef_ == 0)) + \" variables\")\n",
    "\n",
    "print(\"\\n\")\n",
    "# Printing relevant and nonrelevant features as discovered by Lasso \n",
    "Relevant_features =[]\n",
    "Nonrelevant_features =[]\n",
    "for i in range(len(dataset.columns)-1):\n",
    "    if(lasso.coef_[i]!=0):\n",
    "        Relevant_features.append(dataset.columns[i])\n",
    "    else:\n",
    "        Nonrelevant_features.append(dataset.columns[i])\n",
    "    \n",
    "print(\"List of Relevant features: \\n \", Relevant_features)\n",
    "print(\"\\n\")\n",
    "print(\"List of Nonrelevant features: \\n \", Nonrelevant_features)\n"
   ]
  },
  {
   "cell_type": "markdown",
   "metadata": {
    "id": "A9_eWot6zmJX"
   },
   "source": [
    "LASSO discovers features RS, RA, Playoff and RD as only relevant features. It means that\n",
    "only these features are enough to be used out of total available for model building. "
   ]
  },
  {
   "cell_type": "markdown",
   "metadata": {
    "id": "7GKelAaezmJY"
   },
   "source": [
    "## 8.8 Evaluating results of all models\n",
    "\n",
    "In this section we add, results of Ridge, LASSO and ElasticNet to the Pandas DataFrame created earlier for comparison of results. \n",
    "\n"
   ]
  },
  {
   "cell_type": "code",
   "execution_count": 72,
   "metadata": {
    "id": "rRX4jvuWzmJY",
    "outputId": "0c6072ef-5009-4c3a-e26b-0ab05377a57e"
   },
   "outputs": [
    {
     "name": "stdout",
     "output_type": "stream",
     "text": [
      "                   Model  Train Errors  Test Errors       SAW Rsquare %\n",
      "0             RS and OBP          0.01         0.01  0.435749       ---\n",
      "1             RS,OBP,SLG          0.01         0.01  0.455684       ---\n",
      "2          RS,OBP,SLG,BA          0.01         0.01  0.596245       ---\n",
      "3           All features          0.00         0.00  1.555568     71.32\n",
      "4  Ridge on All features          0.01         0.01  0.407650     28.61\n",
      "5  Lasso on All features          0.01         0.01  0.385374     21.07\n"
     ]
    }
   ],
   "source": [
    "# putting summary of results in Pandas dataframe and printing it\n",
    "columns =['Model', 'Train Errors', 'Test Errors', 'SAW', 'Rsquare %']\n",
    "regularization = pd.DataFrame([ Ridge_values, Lasso_values],\n",
    "                              columns= columns)\n",
    "\n",
    "\n",
    "results = [Models_summary, regularization]\n",
    "All_models_summary= pd.concat(results, ignore_index=True)                           \n",
    "print(All_models_summary)\n"
   ]
  },
  {
   "cell_type": "markdown",
   "metadata": {
    "id": "0QBSSCDLzmJY"
   },
   "source": [
    "The regularization methods have significantly decreased the sum of absolute weights by keeping low training and test errors and high rsquare value."
   ]
  },
  {
   "cell_type": "markdown",
   "metadata": {
    "id": "OtwW_zuQzmJY"
   },
   "source": [
    "## 8.9 Generating Regression equations of all models and comparing their weights"
   ]
  },
  {
   "cell_type": "code",
   "execution_count": 73,
   "metadata": {
    "id": "-f2nWxZ5zmJZ",
    "outputId": "22c9b7fe-9d2d-4e9e-a95f-156d07c420e6"
   },
   "outputs": [
    {
     "name": "stdout",
     "output_type": "stream",
     "text": [
      "\n",
      "\n",
      "The LR model on RS and OBP \n",
      "\n",
      "W = 0.44 +  RS X 0.0 + OBP X -0.0\n",
      "\n",
      "\n",
      "The LR model on RS,OBP, SLG \n",
      "\n",
      "W = 0.44 +  RS X 0.0 + OBP X -0.0 + SLG X -0.02\n",
      "\n",
      "\n",
      "The LR model on RS, OBP, SLG, BA \n",
      "\n",
      "W = 0.46 +  RS X 0.0 + OBP X -0.0 + SLG X -0.05 + BA X -0.08\n",
      "\n",
      "\n",
      "The LR model on RS, RA, OBP, SLG, BA, Playoff, RD \n",
      "\n",
      "W = -0.02 + RS X 0.0 + RA X 0.0 + OBP X 0.0 + SLG X -0.12 + BA X -0.02 + Playoff X 0.09 + RD X 1.3\n",
      "\n",
      "\n",
      "The Ridge model on the dataset \n",
      "\n",
      "W = 0.37 + RS X -0.0 + RA X 0.0 + OBP X -0.0 + SLG X -0.0 + BA X -0.01 + Playoff X 0.0 + RD X 0.03\n",
      "\n",
      "\n",
      "The Lasso model on the data set\n",
      "\n",
      "W = 0.37 + RS X -0.0 + RA X 0.0 + OBP X -0.0 + SLG X -0.0 + BA X -0.0 + Playoff X 0.0 + RD X 0.0\n"
     ]
    }
   ],
   "source": [
    "############ model on features RS, OBP #############\n",
    "\n",
    "LR_model_one_features_names = list(['RS', 'OBP'])\n",
    "\n",
    "LR_model_one_table_coeff= pd.DataFrame({'Feature_name':LR_model_one_features_names ,\n",
    "                                        'Coefficients': LRfitted_two.coef_})  \n",
    "\n",
    "# printing the Linear regression model\n",
    "print(\"\\n\")\n",
    "print(\"The LR model on RS and OBP \\n\")\n",
    "\n",
    "print(\"W =\"  ,round(LRfitted_two.intercept_,2), \"+\",\n",
    "      \" RS\" \" X\", round(LRfitted_two.coef_[0],2),\n",
    "     \"+ OBP\" \" X\"  ,round(LRfitted_two.coef_[1],2))\n",
    "     \n",
    "print(\"\\n\")\n",
    "\n",
    "\n",
    "############ model on features RS, OBP, SLG #############\n",
    "\n",
    "LR_model_two_features_names = list(['RS', 'OBP', 'SLG'])\n",
    "\n",
    "LR_model_two_table_coeff= pd.DataFrame({'Feature_name':LR_model_two_features_names ,\n",
    "                                        'Coefficients': LRfitted_three.coef_})  \n",
    "\n",
    "\n",
    "# printing the Linear regression model\n",
    "\n",
    "print(\"The LR model on RS,OBP, SLG \\n\")\n",
    "\n",
    "print(\"W =\"  ,round(LRfitted_three.intercept_,2), \"+\",\n",
    "      \" RS\" \" X\", round(LRfitted_three.coef_[0],2),\n",
    "     \"+ OBP\" \" X\"  ,round(LRfitted_three.coef_[1],2),  \n",
    "      \"+ SLG\" \" X\"  ,round(LRfitted_three.coef_[2],2)\n",
    "     )\n",
    "print(\"\\n\")\n",
    "\n",
    "\n",
    "############ model on features RS, OBP, SLG, BA #############\n",
    "\n",
    "\n",
    "\n",
    "LR_model_three_features_names = list(['RS', 'OBP', 'SLG', 'RA'])\n",
    "\n",
    "LR_model_three_table_coeff= pd.DataFrame({'Feature_name':LR_model_three_features_names ,\n",
    "                                        'Coefficients': LRfitted_four.coef_})  \n",
    "\n",
    "\n",
    "# printing the Linear regression model\n",
    "\n",
    "print(\"The LR model on RS, OBP, SLG, BA \\n\")\n",
    "\n",
    "print(\"W =\"  ,round(LRfitted_four.intercept_,2), \"+\", \n",
    "      \" RS\" \" X\", round(LRfitted_four.coef_[0],2), \n",
    "     \"+ OBP\" \" X\"  ,round(LRfitted_four.coef_[1],2),  \n",
    "      \"+ SLG\" \" X\"  ,round(LRfitted_four.coef_[2],2),\n",
    "     \"+ BA\" \" X\", round(LRfitted_four.coef_[3],2)\n",
    "      )\n",
    "print(\"\\n\")\n",
    "\n",
    "\n",
    "\n",
    "############ model on features RS, OBP, SLG, BA, Playoff, RD #############\n",
    "\n",
    "\n",
    "\n",
    "LR_model_features_names = list(['RS','RA','OBP', 'SLG', 'BA', 'Playoff', 'RD'])\n",
    "\n",
    "LR_model_table_coeff= pd.DataFrame({'Feature_name':LR_model_features_names ,\n",
    "                                        'Coefficients': LRfitted.coef_})  \n",
    "\n",
    "\n",
    "# printing the Linear regression model\n",
    "\n",
    "print(\"The LR model on RS, RA, OBP, SLG, BA, Playoff, RD \\n\")\n",
    "\n",
    "print(\"W =\"  ,round(LRfitted.intercept_,2), \n",
    "      \"+ RS\" \" X\", round(LRfitted.coef_[0],2), \n",
    "      \"+ RA\" \" X\"  ,round(LRfitted.coef_[1],2),\n",
    "      \"+ OBP\" \" X\"  ,round(LRfitted.coef_[2],2), \n",
    "      \"+ SLG\" \" X\"  ,round(LRfitted.coef_[3],2),\n",
    "       \"+ BA\" \" X\", round(LRfitted.coef_[4],2),\n",
    "      \"+ Playoff\" \" X\", round(LRfitted.coef_[5],2),\n",
    "      \"+ RD\" \" X\", round(LRfitted.coef_[6],2),\n",
    "      \n",
    "\n",
    "      )\n",
    "print(\"\\n\")\n",
    "\n",
    "\n",
    "############ Ridge model on features RS, RA OBP, SLG, BA, Playoff, RD #############\n",
    "\n",
    "\n",
    "Ridge_Feature_names = list(My_data.columns.values)\n",
    "\n",
    "\n",
    "Ridge_table_coeff= pd.DataFrame({'Feature_name':Ridge_Feature_names , \n",
    "                                 'Coefficients': ridge.coef_})  \n",
    "\n",
    "# printing the Ridge Linear regression model\n",
    "print(\"The Ridge model on the dataset \\n\")\n",
    "\n",
    "print(\"W =\"  ,round(ridge.intercept_,2), \n",
    "      \"+ RS\" \" X\", round(ridge.coef_[0],2), \n",
    "      \"+ RA\" \" X\"  ,round(ridge.coef_[1],2),\n",
    "      \"+ OBP\" \" X\"  ,round(ridge.coef_[2],2), \n",
    "      \"+ SLG\" \" X\"  ,round(ridge.coef_[3],2),\n",
    "       \"+ BA\" \" X\", round(ridge.coef_[4],2),\n",
    "      \"+ Playoff\" \" X\", round(ridge.coef_[5],2),\n",
    "      \"+ RD\" \" X\", round(ridge.coef_[6],2),\n",
    "      \n",
    "\n",
    "      )\n",
    "print(\"\\n\")\n",
    "\n",
    "\n",
    "\n",
    "############ Lasso model on features RS, RA OBP, SLG, BA, Playoff, RD #############\n",
    "\n",
    "\n",
    "Lasso_Feature_names = list(My_data.columns.values)\n",
    "\n",
    "Lasso_table_coeff= pd.DataFrame({'Feature_name':Lasso_Feature_names , \n",
    "                                 'Coefficients': lasso.coef_})  \n",
    "\n",
    "# printing the Lasso Linear regression model\n",
    "print(\"The Lasso model on the data set\\n\")\n",
    "print(\"W =\"  ,round(ridge.intercept_,2), \n",
    "      \"+ RS\" \" X\", round(lasso.coef_[0],2), \n",
    "      \"+ RA\" \" X\"  ,round(lasso.coef_[1],2),\n",
    "      \"+ OBP\" \" X\"  ,round(lasso.coef_[2],2), \n",
    "      \"+ SLG\" \" X\"  ,round(lasso.coef_[3],2),\n",
    "       \"+ BA\" \" X\", round(lasso.coef_[4],2),\n",
    "      \"+ Playoff\" \" X\", round(lasso.coef_[5],2),\n",
    "      \"+ RD\" \" X\", round(lasso.coef_[6],2),\n",
    "      \n",
    "\n",
    "      )\n",
    "\n"
   ]
  },
  {
   "cell_type": "markdown",
   "metadata": {
    "id": "zHLlK3sRzmJZ"
   },
   "source": [
    "## 8.10 Visualization of Results of all models on significance of features\n",
    "\n"
   ]
  },
  {
   "cell_type": "code",
   "execution_count": 74,
   "metadata": {
    "id": "3BGTUVAjzmJZ",
    "outputId": "2095bbf7-011a-41af-e4ab-a7338de5ff7b"
   },
   "outputs": [
    {
     "data": {
      "text/plain": [
       "<AxesSubplot:title={'center':'Lasso model'}>"
      ]
     },
     "execution_count": 74,
     "metadata": {},
     "output_type": "execute_result"
    },
    {
     "data": {
      "image/png": "[encoded data removed]",
      "text/plain": [
       "<Figure size 720x720 with 4 Axes>"
      ]
     },
     "metadata": {
      "needs_background": "light"
     },
     "output_type": "display_data"
    }
   ],
   "source": [
    "Features_importance_model = pd.Series(LRfitted.coef_, index= X_train.columns)\n",
    "Features_importance_Ridge = pd.Series(ridge.coef_, index= X_train.columns)\n",
    "Features_importance_Lasso = pd.Series(lasso.coef_, index= X_train.columns)\n",
    "\n",
    "fig, axs = plt.subplots(2, 2, figsize=(10,10))\n",
    "Features_importance_model.plot(ax=axs[0,0], kind='barh', title ='LR model' )\n",
    "\n",
    "Features_importance_Ridge.plot(ax=axs[0,1], kind='barh', title ='Ridge model')\n",
    "Features_importance_Lasso.plot(ax=axs[1,0], kind='barh', title ='Lasso model')\n"
   ]
  },
  {
   "cell_type": "markdown",
   "metadata": {
    "id": "BRsM84cczmJa"
   },
   "source": [
    "As discussed earlier, LASSO model not only helps in making the model less complex but, it can also be used to find important features. The most important features for the outcome variable W are Playoff, RD, RA and RS as discovered by LASSO and Elasticnet models"
   ]
  },
  {
   "cell_type": "markdown",
   "metadata": {
    "id": "sjo3HrkvzmJa"
   },
   "source": [
    "# 9. Hyperparameter Selection via Cross-Validation\n",
    "\n",
    "The output of regularization techniques depends on the value given to the  paramter alpha. The good choice of value of alpha can be discovered by cross-validation technique. \n",
    "\n",
    "The following codes find best alpha for Ridge and LASSO using 10 cross validation and alpha value ranging from 0.2 to 1.0. \n"
   ]
  },
  {
   "cell_type": "markdown",
   "metadata": {
    "id": "7kBIgguOzmJa"
   },
   "source": [
    "## 9.1 Tuning Hyperparameter parameter of Ridge regression using Cross-validation"
   ]
  },
  {
   "cell_type": "code",
   "execution_count": 75,
   "metadata": {
    "id": "8toPvZu8zmJa",
    "outputId": "3c400a1c-43a0-49e4-c129-a528c623103e"
   },
   "outputs": [
    {
     "name": "stdout",
     "output_type": "stream",
     "text": [
      "The best alpha value discovered: 0.2\n"
     ]
    }
   ],
   "source": [
    "# Using RidgeCV function, create its object. RidgeCV is controlled by parameters cv and\n",
    "# alphas. Paramter cv defines number of cross validation cycles whereas, range of \n",
    "# different alpha values can be listed using alphas parameter. \n",
    "\n",
    "ridge_cv = linear_model.RidgeCV(cv =10, alphas =[0.2, 0.4,0.5,0.6,0.8,1.0])\n",
    "\n",
    "# Fitting ridge on data set containing all features\n",
    "ridge_cv.fit(X_train, Y_train)\n",
    "\n",
    "# Getting prediction on train and test sets\n",
    "Ridge_cv_pred_train = ridge_cv.predict(X_train)\n",
    "Ridge_cv_pred_test= ridge_cv.predict(X_test)\n",
    "\n",
    "# preparing summary of training, test errors, sum of absolute Weights(SAW) and rsquare\n",
    "\n",
    "Ridge_cv_model = \"RidgeCV on All features\"\n",
    "Ridge_cv_values = [Ridge_cv_model,\n",
    "        round(metrics.mean_absolute_error(Y_train, Ridge_cv_pred_train),2),\n",
    "        round(metrics.mean_absolute_error(Y_test, Ridge_cv_pred_test),2),\n",
    "        np.absolute(ridge_cv.coef_).sum() +np.absolute(ridge_cv.intercept_ ),\n",
    "         round(metrics.r2_score(Y_test,Ridge_cv_pred_test),4)*100           ]\n",
    "\n",
    "print(\"The best alpha value discovered:\" ,ridge_cv.alpha_)\n"
   ]
  },
  {
   "cell_type": "markdown",
   "metadata": {
    "id": "8gpuLTeqzmJa"
   },
   "source": [
    "## 9.2  Tuning Hyperparameter parameter of Lasso regression using Cross-validation"
   ]
  },
  {
   "cell_type": "code",
   "execution_count": 76,
   "metadata": {
    "id": "hV-1IbAkzmJb",
    "outputId": "8ecc4f06-34e6-49d2-d169-ecaeb831c0c7"
   },
   "outputs": [
    {
     "name": "stdout",
     "output_type": "stream",
     "text": [
      "The best alpha value discovered: 0.2\n"
     ]
    }
   ],
   "source": [
    "# Using LassoCV function, create its object. LassoCV is controlled by parameters cv and\n",
    "# alphas. Paramter cv defines number of cross validation cycles whereas, range of \n",
    "# different alpha values can be listed using alphas parameter. \n",
    "\n",
    "lasso_cv = linear_model.LassoCV(cv =10, alphas =[0.2, 0.4,0.5,0.6,0.8,1.0])\n",
    "\n",
    "# Fitting Lasso on data set containing all features\n",
    "lasso_cv.fit(X_train, Y_train)\n",
    "\n",
    "# Getting prediction on train and test sets\n",
    "Lasso_cv_pred_train = lasso_cv.predict(X_train)\n",
    "Lasso_cv_pred_test= lasso_cv.predict(X_test)\n",
    "\n",
    "# preparing summary of training, test errors, sum of absolute Weights(SAW) and rsquare\n",
    "\n",
    "Lasso_cv_model = \"LassoCV on All features\"\n",
    "Lasso_cv_values = [Lasso_cv_model,\n",
    "        round(metrics.mean_absolute_error(Y_train, Lasso_cv_pred_train ),2),\n",
    "        round(metrics.mean_absolute_error(Y_test, Lasso_cv_pred_test),2),\n",
    "        np.absolute(lasso_cv .coef_).sum() +np.absolute(lasso_cv .intercept_ ),\n",
    "         round(metrics.r2_score(Y_test,Lasso_cv_pred_test),4)*100           ]\n",
    "\n",
    "print(\"The best alpha value discovered:\" ,lasso_cv.alpha_)"
   ]
  },
  {
   "cell_type": "markdown",
   "metadata": {
    "id": "s67NMJo1zmJb"
   },
   "source": [
    "# Summary\n",
    "\n",
    "This script demonstrates  fitting Multiple linear regression models to a given dataset. Regression concepts such as  model overfitting, collinearlity, model complexity are discussed.A practical understanding on  regularization methods, called ridge and lasso regression are also presented."
   ]
  },
  {
   "cell_type": "markdown",
   "metadata": {},
   "source": [
    "Multiple-Linear-Regression-with-Regularization\n",
    "A small project addressing a regression problem explains implementation of multiple linear regression techniques, hyperparameter tuning, collinearity, model overfitting and complexity using LASSO, Ridge and Elastic net\n",
    "\n",
    "Key learnings:\n",
    "\n",
    "1.understanding effect of Collinearity on linear regression model<br>\n",
    "2.analysing correlation among attributes<br>\n",
    "3.practical understanding on output of linear regression model in presence of correlated festures 4.implement, analyse Ridge regularization to avoid collinearity,\n",
    "model overfitting and model complexity<br>\n",
    "implement, analyse Lasso regularization to avoid collinearity,\n",
    "4.model overfitting and model complexity<br>\n",
    "5.discovering relevant features using Lasso model<br>\n",
    "6.implement, analyse Elasticnet regularization to avoid collinearity , model overfitting and model complexity<br><br>\n",
    "7.Analysing results of regularization<br>\n",
    "8.comparing results of regularization with linear regression model<br>"
   ]
  },
  {
   "cell_type": "code",
   "execution_count": null,
   "metadata": {},
   "outputs": [],
   "source": []
  }
 ],
 "metadata": {
  "colab": {
   "provenance": []
  },
  "kernelspec": {
   "display_name": "Python 3 (ipykernel)",
   "language": "python",
   "name": "python3"
  },
  "language_info": {
   "codemirror_mode": {
    "name": "ipython",
    "version": 3
   },
   "file_extension": ".py",
   "mimetype": "text/x-python",
   "name": "python",
   "nbconvert_exporter": "python",
   "pygments_lexer": "ipython3",
   "version": "3.9.12"
  }
 },
 "nbformat": 4,
 "nbformat_minor": 1
}
